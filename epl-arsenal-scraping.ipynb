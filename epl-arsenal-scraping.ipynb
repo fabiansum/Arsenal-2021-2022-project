{
 "cells": [
  {
   "cell_type": "code",
   "execution_count": 120,
   "metadata": {},
   "outputs": [],
   "source": [
    "import requests\n",
    "from bs4 import BeautifulSoup\n",
    "import pandas as pd"
   ]
  },
  {
   "cell_type": "markdown",
   "metadata": {},
   "source": [
    "Main Page"
   ]
  },
  {
   "cell_type": "code",
   "execution_count": 121,
   "metadata": {},
   "outputs": [],
   "source": [
    "main_url = 'https://fbref.com/en/comps/9/Premier-League-Stats'\n",
    "data = requests.get(main_url)"
   ]
  },
  {
   "cell_type": "markdown",
   "metadata": {},
   "source": [
    "Team URL"
   ]
  },
  {
   "cell_type": "code",
   "execution_count": 122,
   "metadata": {},
   "outputs": [],
   "source": [
    "data = requests.get(main_url)\n",
    "soup = BeautifulSoup(data.text, 'lxml')\n",
    "standings_table = soup.select('table.stats_table')[0] # using CSS selector\n",
    "links = standings_table.find_all('a') # only find tags\n",
    "links = [l.get(\"href\") for l in links]\n",
    "links = [l for l in links if '/squads/' in l]"
   ]
  },
  {
   "cell_type": "code",
   "execution_count": 123,
   "metadata": {},
   "outputs": [
    {
     "name": "stdout",
     "output_type": "stream",
     "text": [
      "['https://fbref.com/en/squads/b8fd03ef/Manchester-City-Stats', 'https://fbref.com/en/squads/822bd0ba/Liverpool-Stats', 'https://fbref.com/en/squads/cff3d9bb/Chelsea-Stats', 'https://fbref.com/en/squads/361ca564/Tottenham-Hotspur-Stats', 'https://fbref.com/en/squads/18bb7c10/Arsenal-Stats', 'https://fbref.com/en/squads/19538871/Manchester-United-Stats', 'https://fbref.com/en/squads/7c21e445/West-Ham-United-Stats', 'https://fbref.com/en/squads/a2d435b3/Leicester-City-Stats', 'https://fbref.com/en/squads/d07537b9/Brighton-and-Hove-Albion-Stats', 'https://fbref.com/en/squads/8cec06e1/Wolverhampton-Wanderers-Stats', 'https://fbref.com/en/squads/b2b47a98/Newcastle-United-Stats', 'https://fbref.com/en/squads/47c64c55/Crystal-Palace-Stats', 'https://fbref.com/en/squads/cd051869/Brentford-Stats', 'https://fbref.com/en/squads/8602292d/Aston-Villa-Stats', 'https://fbref.com/en/squads/33c895d4/Southampton-Stats', 'https://fbref.com/en/squads/d3fd31cc/Everton-Stats', 'https://fbref.com/en/squads/5bfb9659/Leeds-United-Stats', 'https://fbref.com/en/squads/943e8050/Burnley-Stats', 'https://fbref.com/en/squads/2abfe087/Watford-Stats', 'https://fbref.com/en/squads/1c781004/Norwich-City-Stats']\n"
     ]
    }
   ],
   "source": [
    "team_urls = [f\"https://fbref.com{l}\" for l in links]\n",
    "print(team_urls)"
   ]
  },
  {
   "cell_type": "markdown",
   "metadata": {},
   "source": [
    "Arsenal Page"
   ]
  },
  {
   "cell_type": "code",
   "execution_count": 124,
   "metadata": {},
   "outputs": [],
   "source": [
    "# Arsenal team\n",
    "team_url = team_urls[4]"
   ]
  },
  {
   "cell_type": "code",
   "execution_count": 125,
   "metadata": {},
   "outputs": [],
   "source": [
    "# html data in Arsenal page\n",
    "arsenal_data = requests.get(team_url)"
   ]
  },
  {
   "cell_type": "code",
   "execution_count": 126,
   "metadata": {},
   "outputs": [],
   "source": [
    "# Get Score & Fixture table\n",
    "\n",
    "matches = pd.read_html(arsenal_data.text, match=\"Scores & Fixtures\")[0]\n",
    "matches.to_csv('output/matches.csv')"
   ]
  },
  {
   "cell_type": "markdown",
   "metadata": {},
   "source": [
    "Goal and Shot Creation"
   ]
  },
  {
   "cell_type": "code",
   "execution_count": 127,
   "metadata": {},
   "outputs": [],
   "source": [
    "url_list = {'shooting':'Shooting', 'keeper':'Goalkeeping', 'passing':'Passing', \n",
    "            'passing_types':'Pass Types', 'gca':'Goal and Shot Creation', 'defense':'Defensive Action', \n",
    "            'possession':'Possession', 'misc':'Miscellaneous Stats'}\n",
    "     "
   ]
  },
  {
   "cell_type": "code",
   "execution_count": 128,
   "metadata": {},
   "outputs": [],
   "source": [
    "for key, value in url_list.items():\n",
    "    soup = BeautifulSoup(arsenal_data.text)\n",
    "    links = soup.find_all('a')\n",
    "    links = [l.get(\"href\") for l in links]\n",
    "    links = [l for l in links if l and f'all_comps/{key}/' in l]\n",
    "    stat_data = requests.get(f\"https://fbref.com{links[0]}\")\n",
    "    stat_df = pd.read_html(stat_data.text, match=value)[0]\n",
    "    stat_df.to_csv('output/' + key + '.csv')\n",
    "    time.sleep(1)"
   ]
  }
 ],
 "metadata": {
  "interpreter": {
   "hash": "b96c447c5a36d3559b02b5fc71e4eae76cc3072b8054e2ded4b9e543dd61076c"
  },
  "kernelspec": {
   "display_name": "Python 3.10.4 ('webscraping')",
   "language": "python",
   "name": "python3"
  },
  "language_info": {
   "codemirror_mode": {
    "name": "ipython",
    "version": 3
   },
   "file_extension": ".py",
   "mimetype": "text/x-python",
   "name": "python",
   "nbconvert_exporter": "python",
   "pygments_lexer": "ipython3",
   "version": "3.10.4"
  },
  "orig_nbformat": 4
 },
 "nbformat": 4,
 "nbformat_minor": 2
}
